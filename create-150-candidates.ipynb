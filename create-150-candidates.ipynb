{
 "cells": [
  {
   "cell_type": "code",
   "execution_count": 1,
   "id": "34bf12b7",
   "metadata": {
    "_cell_guid": "b1076dfc-b9ad-4769-8c92-a6c4dae69d19",
    "_uuid": "8f2839f25d086af736a60e9eeb907d3b93b6e0e5",
    "execution": {
     "iopub.execute_input": "2022-12-23T07:32:40.611622Z",
     "iopub.status.busy": "2022-12-23T07:32:40.610505Z",
     "iopub.status.idle": "2022-12-23T07:32:40.643327Z",
     "shell.execute_reply": "2022-12-23T07:32:40.642273Z"
    },
    "papermill": {
     "duration": 0.043343,
     "end_time": "2022-12-23T07:32:40.646987",
     "exception": false,
     "start_time": "2022-12-23T07:32:40.603644",
     "status": "completed"
    },
    "tags": []
   },
   "outputs": [
    {
     "name": "stdout",
     "output_type": "stream",
     "text": [
      "/kaggle/input/otto-recommender-system/sample_submission.csv\n",
      "/kaggle/input/otto-recommender-system/test.jsonl\n",
      "/kaggle/input/otto-recommender-system/train.jsonl\n",
      "/kaggle/input/otto-pipeline2-lb-0-576/top_20_clicks_v6_3.pqt\n",
      "/kaggle/input/otto-pipeline2-lb-0-576/top_20_clicks_v6_0.pqt\n",
      "/kaggle/input/otto-pipeline2-lb-0-576/top_20_clicks_v6_2.pqt\n",
      "/kaggle/input/otto-pipeline2-lb-0-576/top_15_buy2buy_v6_0.pqt\n",
      "/kaggle/input/otto-pipeline2-lb-0-576/__results__.html\n",
      "/kaggle/input/otto-pipeline2-lb-0-576/top_20_clicks_v6_1.pqt\n",
      "/kaggle/input/otto-pipeline2-lb-0-576/top_15_carts_orders_v6_0.pqt\n",
      "/kaggle/input/otto-pipeline2-lb-0-576/submission.csv\n",
      "/kaggle/input/otto-pipeline2-lb-0-576/__notebook__.ipynb\n",
      "/kaggle/input/otto-pipeline2-lb-0-576/__output__.json\n",
      "/kaggle/input/otto-pipeline2-lb-0-576/top_15_carts_orders_v6_1.pqt\n",
      "/kaggle/input/otto-pipeline2-lb-0-576/top_15_carts_orders_v6_2.pqt\n",
      "/kaggle/input/otto-pipeline2-lb-0-576/top_15_carts_orders_v6_3.pqt\n",
      "/kaggle/input/otto-pipeline2-lb-0-576/custom.css\n",
      "/kaggle/input/otto-train-and-test-data-for-local-validation/test_labels.parquet\n",
      "/kaggle/input/otto-train-and-test-data-for-local-validation/id2type.pkl\n",
      "/kaggle/input/otto-train-and-test-data-for-local-validation/train.parquet\n",
      "/kaggle/input/otto-train-and-test-data-for-local-validation/type2id.pkl\n",
      "/kaggle/input/otto-train-and-test-data-for-local-validation/test.parquet\n"
     ]
    }
   ],
   "source": [
    "# This Python 3 environment comes with many helpful analytics libraries installed\n",
    "# It is defined by the kaggle/python Docker image: https://github.com/kaggle/docker-python\n",
    "# For example, here's several helpful packages to load\n",
    "\n",
    "import numpy as np # linear algebra\n",
    "import pandas as pd # data processing, CSV file I/O (e.g. pd.read_csv)\n",
    "\n",
    "# Input data files are available in the read-only \"../input/\" directory\n",
    "# For example, running this (by clicking run or pressing Shift+Enter) will list all files under the input directory\n",
    "\n",
    "import os\n",
    "for dirname, _, filenames in os.walk('/kaggle/input'):\n",
    "    for filename in filenames:\n",
    "        print(os.path.join(dirname, filename))\n",
    "\n",
    "# You can write up to 20GB to the current directory (/kaggle/working/) that gets preserved as output when you create a version using \"Save & Run All\" \n",
    "# You can also write temporary files to /kaggle/temp/, but they won't be saved outside of the current session"
   ]
  },
  {
   "cell_type": "code",
   "execution_count": 2,
   "id": "59888151",
   "metadata": {
    "execution": {
     "iopub.execute_input": "2022-12-23T07:32:40.657338Z",
     "iopub.status.busy": "2022-12-23T07:32:40.657017Z",
     "iopub.status.idle": "2022-12-23T07:32:40.660882Z",
     "shell.execute_reply": "2022-12-23T07:32:40.660164Z"
    },
    "papermill": {
     "duration": 0.010745,
     "end_time": "2022-12-23T07:32:40.662722",
     "exception": false,
     "start_time": "2022-12-23T07:32:40.651977",
     "status": "completed"
    },
    "tags": []
   },
   "outputs": [],
   "source": [
    "import  itertools\n",
    "from collections import Counter"
   ]
  },
  {
   "cell_type": "code",
   "execution_count": 3,
   "id": "1bf19f1d",
   "metadata": {
    "execution": {
     "iopub.execute_input": "2022-12-23T07:32:40.671546Z",
     "iopub.status.busy": "2022-12-23T07:32:40.671263Z",
     "iopub.status.idle": "2022-12-23T07:32:55.061799Z",
     "shell.execute_reply": "2022-12-23T07:32:55.060705Z"
    },
    "papermill": {
     "duration": 14.398037,
     "end_time": "2022-12-23T07:32:55.064539",
     "exception": false,
     "start_time": "2022-12-23T07:32:40.666502",
     "status": "completed"
    },
    "tags": []
   },
   "outputs": [],
   "source": [
    "train = pd.read_parquet('/kaggle/input/otto-train-and-test-data-for-local-validation/train.parquet')\n",
    "val = pd.read_parquet('/kaggle/input/otto-train-and-test-data-for-local-validation/test.parquet')"
   ]
  },
  {
   "cell_type": "code",
   "execution_count": 4,
   "id": "0081cf23",
   "metadata": {
    "execution": {
     "iopub.execute_input": "2022-12-23T07:32:55.073982Z",
     "iopub.status.busy": "2022-12-23T07:32:55.073626Z",
     "iopub.status.idle": "2022-12-23T07:32:55.091506Z",
     "shell.execute_reply": "2022-12-23T07:32:55.090441Z"
    },
    "papermill": {
     "duration": 0.02514,
     "end_time": "2022-12-23T07:32:55.093747",
     "exception": false,
     "start_time": "2022-12-23T07:32:55.068607",
     "status": "completed"
    },
    "tags": []
   },
   "outputs": [
    {
     "data": {
      "text/html": [
       "<div>\n",
       "<style scoped>\n",
       "    .dataframe tbody tr th:only-of-type {\n",
       "        vertical-align: middle;\n",
       "    }\n",
       "\n",
       "    .dataframe tbody tr th {\n",
       "        vertical-align: top;\n",
       "    }\n",
       "\n",
       "    .dataframe thead th {\n",
       "        text-align: right;\n",
       "    }\n",
       "</style>\n",
       "<table border=\"1\" class=\"dataframe\">\n",
       "  <thead>\n",
       "    <tr style=\"text-align: right;\">\n",
       "      <th></th>\n",
       "      <th>session</th>\n",
       "      <th>aid</th>\n",
       "      <th>ts</th>\n",
       "      <th>type</th>\n",
       "    </tr>\n",
       "  </thead>\n",
       "  <tbody>\n",
       "    <tr>\n",
       "      <th>0</th>\n",
       "      <td>11098528</td>\n",
       "      <td>11830</td>\n",
       "      <td>1661119200</td>\n",
       "      <td>0</td>\n",
       "    </tr>\n",
       "    <tr>\n",
       "      <th>1</th>\n",
       "      <td>11098529</td>\n",
       "      <td>1105029</td>\n",
       "      <td>1661119200</td>\n",
       "      <td>0</td>\n",
       "    </tr>\n",
       "    <tr>\n",
       "      <th>2</th>\n",
       "      <td>11098530</td>\n",
       "      <td>264500</td>\n",
       "      <td>1661119200</td>\n",
       "      <td>0</td>\n",
       "    </tr>\n",
       "    <tr>\n",
       "      <th>3</th>\n",
       "      <td>11098530</td>\n",
       "      <td>264500</td>\n",
       "      <td>1661119288</td>\n",
       "      <td>0</td>\n",
       "    </tr>\n",
       "    <tr>\n",
       "      <th>4</th>\n",
       "      <td>11098530</td>\n",
       "      <td>409236</td>\n",
       "      <td>1661119369</td>\n",
       "      <td>0</td>\n",
       "    </tr>\n",
       "    <tr>\n",
       "      <th>...</th>\n",
       "      <td>...</td>\n",
       "      <td>...</td>\n",
       "      <td>...</td>\n",
       "      <td>...</td>\n",
       "    </tr>\n",
       "    <tr>\n",
       "      <th>7683572</th>\n",
       "      <td>12899774</td>\n",
       "      <td>33035</td>\n",
       "      <td>1661723968</td>\n",
       "      <td>0</td>\n",
       "    </tr>\n",
       "    <tr>\n",
       "      <th>7683573</th>\n",
       "      <td>12899775</td>\n",
       "      <td>1743151</td>\n",
       "      <td>1661723970</td>\n",
       "      <td>0</td>\n",
       "    </tr>\n",
       "    <tr>\n",
       "      <th>7683574</th>\n",
       "      <td>12899776</td>\n",
       "      <td>548599</td>\n",
       "      <td>1661723972</td>\n",
       "      <td>0</td>\n",
       "    </tr>\n",
       "    <tr>\n",
       "      <th>7683575</th>\n",
       "      <td>12899777</td>\n",
       "      <td>384045</td>\n",
       "      <td>1661723976</td>\n",
       "      <td>0</td>\n",
       "    </tr>\n",
       "    <tr>\n",
       "      <th>7683576</th>\n",
       "      <td>12899778</td>\n",
       "      <td>561560</td>\n",
       "      <td>1661723983</td>\n",
       "      <td>0</td>\n",
       "    </tr>\n",
       "  </tbody>\n",
       "</table>\n",
       "<p>7683577 rows × 4 columns</p>\n",
       "</div>"
      ],
      "text/plain": [
       "          session      aid          ts  type\n",
       "0        11098528    11830  1661119200     0\n",
       "1        11098529  1105029  1661119200     0\n",
       "2        11098530   264500  1661119200     0\n",
       "3        11098530   264500  1661119288     0\n",
       "4        11098530   409236  1661119369     0\n",
       "...           ...      ...         ...   ...\n",
       "7683572  12899774    33035  1661723968     0\n",
       "7683573  12899775  1743151  1661723970     0\n",
       "7683574  12899776   548599  1661723972     0\n",
       "7683575  12899777   384045  1661723976     0\n",
       "7683576  12899778   561560  1661723983     0\n",
       "\n",
       "[7683577 rows x 4 columns]"
      ]
     },
     "execution_count": 4,
     "metadata": {},
     "output_type": "execute_result"
    }
   ],
   "source": [
    "val"
   ]
  },
  {
   "cell_type": "code",
   "execution_count": 5,
   "id": "e2a71d9b",
   "metadata": {
    "execution": {
     "iopub.execute_input": "2022-12-23T07:32:55.106516Z",
     "iopub.status.busy": "2022-12-23T07:32:55.105837Z",
     "iopub.status.idle": "2022-12-23T07:32:55.118864Z",
     "shell.execute_reply": "2022-12-23T07:32:55.117441Z"
    },
    "papermill": {
     "duration": 0.027974,
     "end_time": "2022-12-23T07:32:55.125993",
     "exception": false,
     "start_time": "2022-12-23T07:32:55.098019",
     "status": "completed"
    },
    "tags": []
   },
   "outputs": [
    {
     "data": {
      "text/html": [
       "<div>\n",
       "<style scoped>\n",
       "    .dataframe tbody tr th:only-of-type {\n",
       "        vertical-align: middle;\n",
       "    }\n",
       "\n",
       "    .dataframe tbody tr th {\n",
       "        vertical-align: top;\n",
       "    }\n",
       "\n",
       "    .dataframe thead th {\n",
       "        text-align: right;\n",
       "    }\n",
       "</style>\n",
       "<table border=\"1\" class=\"dataframe\">\n",
       "  <thead>\n",
       "    <tr style=\"text-align: right;\">\n",
       "      <th></th>\n",
       "      <th>session</th>\n",
       "      <th>aid</th>\n",
       "      <th>ts</th>\n",
       "      <th>type</th>\n",
       "    </tr>\n",
       "  </thead>\n",
       "  <tbody>\n",
       "    <tr>\n",
       "      <th>0</th>\n",
       "      <td>0</td>\n",
       "      <td>1517085</td>\n",
       "      <td>1659304800</td>\n",
       "      <td>0</td>\n",
       "    </tr>\n",
       "    <tr>\n",
       "      <th>1</th>\n",
       "      <td>0</td>\n",
       "      <td>1563459</td>\n",
       "      <td>1659304904</td>\n",
       "      <td>0</td>\n",
       "    </tr>\n",
       "    <tr>\n",
       "      <th>2</th>\n",
       "      <td>0</td>\n",
       "      <td>1309446</td>\n",
       "      <td>1659367439</td>\n",
       "      <td>0</td>\n",
       "    </tr>\n",
       "    <tr>\n",
       "      <th>3</th>\n",
       "      <td>0</td>\n",
       "      <td>16246</td>\n",
       "      <td>1659367719</td>\n",
       "      <td>0</td>\n",
       "    </tr>\n",
       "    <tr>\n",
       "      <th>4</th>\n",
       "      <td>0</td>\n",
       "      <td>1781822</td>\n",
       "      <td>1659367871</td>\n",
       "      <td>0</td>\n",
       "    </tr>\n",
       "    <tr>\n",
       "      <th>...</th>\n",
       "      <td>...</td>\n",
       "      <td>...</td>\n",
       "      <td>...</td>\n",
       "      <td>...</td>\n",
       "    </tr>\n",
       "    <tr>\n",
       "      <th>163955175</th>\n",
       "      <td>11098523</td>\n",
       "      <td>175715</td>\n",
       "      <td>1661119197</td>\n",
       "      <td>0</td>\n",
       "    </tr>\n",
       "    <tr>\n",
       "      <th>163955176</th>\n",
       "      <td>11098524</td>\n",
       "      <td>1088524</td>\n",
       "      <td>1661119198</td>\n",
       "      <td>0</td>\n",
       "    </tr>\n",
       "    <tr>\n",
       "      <th>163955177</th>\n",
       "      <td>11098525</td>\n",
       "      <td>182927</td>\n",
       "      <td>1661119199</td>\n",
       "      <td>0</td>\n",
       "    </tr>\n",
       "    <tr>\n",
       "      <th>163955178</th>\n",
       "      <td>11098526</td>\n",
       "      <td>510055</td>\n",
       "      <td>1661119199</td>\n",
       "      <td>0</td>\n",
       "    </tr>\n",
       "    <tr>\n",
       "      <th>163955179</th>\n",
       "      <td>11098527</td>\n",
       "      <td>1659014</td>\n",
       "      <td>1661119199</td>\n",
       "      <td>0</td>\n",
       "    </tr>\n",
       "  </tbody>\n",
       "</table>\n",
       "<p>163955180 rows × 4 columns</p>\n",
       "</div>"
      ],
      "text/plain": [
       "            session      aid          ts  type\n",
       "0                 0  1517085  1659304800     0\n",
       "1                 0  1563459  1659304904     0\n",
       "2                 0  1309446  1659367439     0\n",
       "3                 0    16246  1659367719     0\n",
       "4                 0  1781822  1659367871     0\n",
       "...             ...      ...         ...   ...\n",
       "163955175  11098523   175715  1661119197     0\n",
       "163955176  11098524  1088524  1661119198     0\n",
       "163955177  11098525   182927  1661119199     0\n",
       "163955178  11098526   510055  1661119199     0\n",
       "163955179  11098527  1659014  1661119199     0\n",
       "\n",
       "[163955180 rows x 4 columns]"
      ]
     },
     "execution_count": 5,
     "metadata": {},
     "output_type": "execute_result"
    }
   ],
   "source": [
    "train"
   ]
  },
  {
   "cell_type": "code",
   "execution_count": 6,
   "id": "8685b64d",
   "metadata": {
    "execution": {
     "iopub.execute_input": "2022-12-23T07:32:55.137672Z",
     "iopub.status.busy": "2022-12-23T07:32:55.137251Z",
     "iopub.status.idle": "2022-12-23T07:34:49.564494Z",
     "shell.execute_reply": "2022-12-23T07:34:49.563251Z"
    },
    "papermill": {
     "duration": 114.43938,
     "end_time": "2022-12-23T07:34:49.571135",
     "exception": false,
     "start_time": "2022-12-23T07:32:55.131755",
     "status": "completed"
    },
    "tags": []
   },
   "outputs": [
    {
     "name": "stdout",
     "output_type": "stream",
     "text": [
      "Here are size of our 3 co-visitation matrices:\n",
      "1837166 1168768 1837166\n",
      "CPU times: user 1min 46s, sys: 8.56 s, total: 1min 54s\n",
      "Wall time: 1min 54s\n"
     ]
    }
   ],
   "source": [
    "%%time\n",
    "VER=6\n",
    "DISK_PIECES=4\n",
    "def pqt_to_dict(df):\n",
    "    return df.groupby('aid_x').aid_y.apply(list).to_dict()\n",
    "\n",
    "top_20_clicks = pqt_to_dict(pd.read_parquet(f'/kaggle/input/otto-pipeline2-lb-0-576/top_20_clicks_v6_0.pqt'))\n",
    "for k in range(1, DISK_PIECES):\n",
    "    top_20_clicks.update( pqt_to_dict( pd.read_parquet(f'/kaggle/input/otto-pipeline2-lb-0-576/top_20_clicks_v6_{k}.pqt')))\n",
    "top_20_buys = pqt_to_dict( pd.read_parquet(f'/kaggle/input/otto-pipeline2-lb-0-576/top_15_carts_orders_v6_0.pqt'))\n",
    "for k in range(1, DISK_PIECES):\n",
    "    top_20_buys.update( pqt_to_dict( pd.read_parquet(f'/kaggle/input/otto-pipeline2-lb-0-576/top_15_carts_orders_v6_{k}.pqt')))\n",
    "top_20_buy2buy = pqt_to_dict(pd.read_parquet(f'/kaggle/input/otto-pipeline2-lb-0-576/top_15_buy2buy_v6_0.pqt'))\n",
    "\n",
    "top_clicks = val.loc[val['type']== 0, 'aid'].value_counts().index.values[:150]\n",
    "top_carts = val.loc[val['type']== 1, 'aid'].value_counts().index.values[:150]\n",
    "top_orders = val.loc[val['type']== 2, 'aid'].value_counts().index.values[:150]\n",
    "\n",
    "print('Here are size of our 3 co-visitation matrices:')\n",
    "print( len(top_20_clicks), len(top_20_buy2buy), len(top_20_buys))\n"
   ]
  },
  {
   "cell_type": "code",
   "execution_count": 7,
   "id": "e1291d6b",
   "metadata": {
    "execution": {
     "iopub.execute_input": "2022-12-23T07:34:49.581881Z",
     "iopub.status.busy": "2022-12-23T07:34:49.581533Z",
     "iopub.status.idle": "2022-12-23T07:34:49.587828Z",
     "shell.execute_reply": "2022-12-23T07:34:49.586991Z"
    },
    "papermill": {
     "duration": 0.013977,
     "end_time": "2022-12-23T07:34:49.589755",
     "exception": false,
     "start_time": "2022-12-23T07:34:49.575778",
     "status": "completed"
    },
    "tags": []
   },
   "outputs": [
    {
     "data": {
      "text/plain": [
       "array([ 485256, 1460571,  108125, 1551213,   33343,  613493,  876493,\n",
       "        152547,  184976, 1236775, 1406660,  836852,  331708, 1531805,\n",
       "         29735,  554660,  634452,  986164,  959208,  832192,  332654,\n",
       "        620545, 1645990,  166037,  102345, 1116095,  811371,  322370,\n",
       "       1733943, 1043508, 1019736,  756588,  801774,  231487,  861401,\n",
       "       1502122, 1030009,  329725, 1624436, 1022566, 1006198,  496180,\n",
       "       1685214, 1853288,  530377,  659399, 1604220, 1102089, 1586171,\n",
       "       1497089,  754412, 1765072, 1109824, 1264313,  881286, 1294924,\n",
       "        199409, 1581568,  385065,  195381,  558573, 1196256, 1782099,\n",
       "        612920,  435253,  923948,  508883, 1126038, 1647563, 1508062,\n",
       "       1182614,  544144,  247240,  982423,   57315, 1628069,  674590,\n",
       "       1798916,  892871,  909449,  337471,  721034, 1734305,   95488,\n",
       "       1722991, 1754984,  819288, 1462420,  836707, 1796103,   42628,\n",
       "        642804,  122983,  321547, 1278671,  714524, 1603001,  409620,\n",
       "        636101, 1702657,  670066,  632365,  637827,  620813,   19665,\n",
       "        147278,  137514,  759436,  631899,  954951, 1140985,  799923,\n",
       "        906799, 1359971,  842590,  305158,  831165,    3542,  390163,\n",
       "       1281615, 1156699, 1120524,  597742, 1596897, 1736857,  500609,\n",
       "        683401,  688602,  846336, 1443271,  803544, 1206327,  169239,\n",
       "        647522, 1257293, 1699502, 1611581, 1341391, 1217083, 1310373,\n",
       "        399315, 1255910,  542343, 1695413,  584027,  738987, 1420240,\n",
       "        585186,  373490,  787236])"
      ]
     },
     "execution_count": 7,
     "metadata": {},
     "output_type": "execute_result"
    }
   ],
   "source": [
    "top_clicks"
   ]
  },
  {
   "cell_type": "code",
   "execution_count": 8,
   "id": "0a13961f",
   "metadata": {
    "execution": {
     "iopub.execute_input": "2022-12-23T07:34:49.600707Z",
     "iopub.status.busy": "2022-12-23T07:34:49.600311Z",
     "iopub.status.idle": "2022-12-23T07:34:49.659183Z",
     "shell.execute_reply": "2022-12-23T07:34:49.658057Z"
    },
    "papermill": {
     "duration": 0.067077,
     "end_time": "2022-12-23T07:34:49.661510",
     "exception": false,
     "start_time": "2022-12-23T07:34:49.594433",
     "status": "completed"
    },
    "tags": []
   },
   "outputs": [],
   "source": [
    "type_weight_multipliers = {0: 1, 1: 5, 2: 4}\n",
    "\n",
    "def suggest_clicks(df):\n",
    "    # USER HISTORY AIDS AND TYPES\n",
    "    aids=df.aid.tolist()\n",
    "    types = df.type.tolist()\n",
    "    unique_aids = list(dict.fromkeys(aids[::-1] ))\n",
    "    # RERANK CANDIDATES USING WEIGHTS\n",
    "    if len(unique_aids)>=150:\n",
    "        weights=np.logspace(0.1,1,len(aids),base=2, endpoint=True)-1\n",
    "        aids_temp = Counter() \n",
    "        # RERANK BASED ON REPEAT ITEMS AND TYPE OF ITEMS\n",
    "        for aid,w,t in zip(aids,weights,types): \n",
    "            aids_temp[aid] += w * type_weight_multipliers[t]\n",
    "        sorted_aids = [k for k,v in aids_temp.most_common(150)]\n",
    "        return sorted_aids\n",
    "    # USE \"CLICKS\" CO-VISITATION MATRIX\n",
    "    aids2 = list(itertools.chain(*[top_20_clicks[aid] for aid in unique_aids if aid in top_20_clicks]))\n",
    "    aids3 = list(itertools.chain(*[top_20_buys[aid] for aid in unique_aids if aid in top_20_buys]))\n",
    "    # RERANK CANDIDATES\n",
    "    top_aids2 = [aid2 for aid2, cnt in Counter(aids2+aids3).most_common(150) if aid2 not in unique_aids]    \n",
    "    result = unique_aids + top_aids2[:150 - len(unique_aids)]\n",
    "    # USE TOP20 TEST CLICKS\n",
    "    tops = set(list(top_clicks)) - set(result)\n",
    "    return result + list(tops)[:150-len(result)]\n",
    "\n",
    "\n",
    "def suggest_carts(df):\n",
    "    # User history aids and types\n",
    "    aids = df.aid.tolist()\n",
    "    types = df.type.tolist()\n",
    "    \n",
    "    # UNIQUE AIDS AND UNIQUE BUYS\n",
    "    unique_aids = list(dict.fromkeys(aids[::-1] ))\n",
    "    df = df.loc[(df['type'] == 0)|(df['type'] == 1)]\n",
    "    unique_buys = list(dict.fromkeys(df.aid.tolist()[::-1]))\n",
    "    \n",
    "    # Rerank candidates using weights\n",
    "    if len(unique_aids) >= 150:\n",
    "        weights=np.logspace(0.5,1,len(aids),base=2, endpoint=True)-1\n",
    "        aids_temp = Counter() \n",
    "        \n",
    "        # Rerank based on repeat items and types of items\n",
    "        for aid,w,t in zip(aids,weights,types): \n",
    "            aids_temp[aid] += w * type_weight_multipliers[t]\n",
    "        \n",
    "        # Rerank candidates using\"top_20_carts\" co-visitation matrix\n",
    "        aids2 = list(itertools.chain(*[top_20_buys[aid] for aid in unique_buys if aid in top_20_buys]))\n",
    "        for aid in aids2: aids_temp[aid] += 0.1\n",
    "        sorted_aids = [k for k,v in aids_temp.most_common(150)]\n",
    "        return sorted_aids\n",
    "    \n",
    "    # Use \"cart order\" and \"clicks\" co-visitation matrices\n",
    "    aids1 = list(itertools.chain(*[top_20_clicks[aid] for aid in unique_aids if aid in top_20_clicks]))\n",
    "    aids2 = list(itertools.chain(*[top_20_buys[aid] for aid in unique_aids if aid in top_20_buys]))\n",
    "    aids3 = list(itertools.chain(*[top_20_buy2buy[aid] for aid in unique_aids if aid in top_20_buy2buy]))\n",
    "    \n",
    "    # RERANK CANDIDATES\n",
    "    top_aids2 = [aid2 for aid2, cnt in Counter(aids1+aids2+aids3).most_common(150) if aid2 not in unique_aids] \n",
    "    result = unique_aids + top_aids2[:150 - len(unique_aids)]\n",
    "    \n",
    "    # USE TOP20 TEST ORDERS\n",
    "    tops = set(list(top_carts)) - set(result)\n",
    "\n",
    "    return result + list(tops)[:150-len(result)]\n",
    "\n",
    "\n",
    "def suggest_buys(df):\n",
    "    # USER HISTORY AIDS AND TYPES\n",
    "    aids=df.aid.tolist()\n",
    "    types = df.type.tolist()\n",
    "    # UNIQUE AIDS AND UNIQUE BUYS\n",
    "    unique_aids = list(dict.fromkeys(aids[::-1] ))\n",
    "    df = df.loc[(df['type']==1)|(df['type']==2)]\n",
    "    unique_buys = list(dict.fromkeys( df.aid.tolist()[::-1] ))\n",
    "    # RERANK CANDIDATES USING WEIGHTS\n",
    "    if len(unique_aids)>=150:\n",
    "        weights=np.logspace(0.5,1,len(aids),base=2, endpoint=True)-1\n",
    "        aids_temp = Counter() \n",
    "        # RERANK BASED ON REPEAT ITEMS AND TYPE OF ITEMS\n",
    "        for aid,w,t in zip(aids,weights,types): \n",
    "            aids_temp[aid] += w * type_weight_multipliers[t]\n",
    "        # RERANK CANDIDATES USING \"BUY2BUY\" CO-VISITATION MATRIX\n",
    "        aids3 = list(itertools.chain(*[top_20_buy2buy[aid] for aid in unique_buys if aid in top_20_buy2buy]))\n",
    "        for aid in aids3: aids_temp[aid] += 0.1\n",
    "        sorted_aids = [k for k,v in aids_temp.most_common(150)]\n",
    "        return sorted_aids\n",
    "    # USE \"CART ORDER\" CO-VISITATION MATRIX\n",
    "    aids2 = list(itertools.chain(*[top_20_buys[aid] for aid in unique_aids if aid in top_20_buys]))\n",
    "    # USE \"BUY2BUY\" CO-VISITATION MATRIX\n",
    "    aids3 = list(itertools.chain(*[top_20_buy2buy[aid] for aid in unique_buys if aid in top_20_buy2buy]))\n",
    "    # RERANK CANDIDATES\n",
    "    top_aids2 = [aid2 for aid2, cnt in Counter(aids2+aids3).most_common(150) if aid2 not in unique_aids] \n",
    "    result = unique_aids + top_aids2[:150 - len(unique_aids)]\n",
    "    # USE TOP20 TEST ORDERS\n",
    "    \n",
    "    tops = set(list(top_orders)) - set(result)\n",
    "\n",
    "    return result + list(tops)[:150-len(result)]"
   ]
  },
  {
   "cell_type": "code",
   "execution_count": 9,
   "id": "b1b69662",
   "metadata": {
    "execution": {
     "iopub.execute_input": "2022-12-23T07:34:49.672254Z",
     "iopub.status.busy": "2022-12-23T07:34:49.671833Z",
     "iopub.status.idle": "2022-12-23T07:41:38.081120Z",
     "shell.execute_reply": "2022-12-23T07:41:38.080088Z"
    },
    "papermill": {
     "duration": 408.420937,
     "end_time": "2022-12-23T07:41:38.087058",
     "exception": false,
     "start_time": "2022-12-23T07:34:49.666121",
     "status": "completed"
    },
    "tags": []
   },
   "outputs": [
    {
     "name": "stdout",
     "output_type": "stream",
     "text": [
      "CPU times: user 6min 38s, sys: 10.3 s, total: 6min 48s\n",
      "Wall time: 6min 48s\n"
     ]
    }
   ],
   "source": [
    "%%time\n",
    "\n",
    "pred_df_clicks = val.sort_values([\"session\", \"ts\"]).groupby([\"session\"]).apply(\n",
    "    lambda x: suggest_clicks(x)\n",
    ")\n"
   ]
  },
  {
   "cell_type": "code",
   "execution_count": 10,
   "id": "6b83247e",
   "metadata": {
    "execution": {
     "iopub.execute_input": "2022-12-23T07:41:38.097507Z",
     "iopub.status.busy": "2022-12-23T07:41:38.097121Z",
     "iopub.status.idle": "2022-12-23T07:41:52.745486Z",
     "shell.execute_reply": "2022-12-23T07:41:52.744152Z"
    },
    "papermill": {
     "duration": 14.658694,
     "end_time": "2022-12-23T07:41:52.750305",
     "exception": false,
     "start_time": "2022-12-23T07:41:38.091611",
     "status": "completed"
    },
    "tags": []
   },
   "outputs": [],
   "source": [
    "pred_df_clicks = pd.DataFrame(pred_df_clicks)\n",
    "pred_df_clicks.reset_index(inplace=True)\n",
    "pred_df_clicks = pred_df_clicks.rename(columns={0:'aids'})\n",
    "pred_df_clicks = pred_df_clicks.iloc[:100000, :]\n",
    "pred_df_clicks = pred_df_clicks.explode('aids')\n",
    "pred_df_clicks['aids'] = pred_df_clicks['aids'].astype('int32')\n",
    "pred_df_clicks['session'] = pred_df_clicks['session'].astype('int32')\n",
    "\n",
    "pred_df_clicks.to_parquet('pred_df_clicks.pqt')\n",
    "\n",
    "import gc\n",
    "del pred_df_clicks\n",
    "_=gc.collect()"
   ]
  },
  {
   "cell_type": "code",
   "execution_count": 11,
   "id": "d91dac03",
   "metadata": {
    "execution": {
     "iopub.execute_input": "2022-12-23T07:41:52.771866Z",
     "iopub.status.busy": "2022-12-23T07:41:52.771526Z",
     "iopub.status.idle": "2022-12-23T08:12:07.674351Z",
     "shell.execute_reply": "2022-12-23T08:12:07.673267Z"
    },
    "papermill": {
     "duration": 1814.92144,
     "end_time": "2022-12-23T08:12:07.682664",
     "exception": false,
     "start_time": "2022-12-23T07:41:52.761224",
     "status": "completed"
    },
    "tags": []
   },
   "outputs": [
    {
     "name": "stdout",
     "output_type": "stream",
     "text": [
      "CPU times: user 29min 47s, sys: 29.3 s, total: 30min 17s\n",
      "Wall time: 30min 14s\n"
     ]
    }
   ],
   "source": [
    "%%time\n",
    "pred_df_carts = val.sort_values([\"session\", \"ts\"]).groupby([\"session\"]).apply(\n",
    "    lambda x: suggest_carts(x)\n",
    ")"
   ]
  },
  {
   "cell_type": "code",
   "execution_count": 12,
   "id": "a890461f",
   "metadata": {
    "execution": {
     "iopub.execute_input": "2022-12-23T08:12:07.694917Z",
     "iopub.status.busy": "2022-12-23T08:12:07.694554Z",
     "iopub.status.idle": "2022-12-23T08:12:30.973455Z",
     "shell.execute_reply": "2022-12-23T08:12:30.971908Z"
    },
    "papermill": {
     "duration": 23.288163,
     "end_time": "2022-12-23T08:12:30.976759",
     "exception": false,
     "start_time": "2022-12-23T08:12:07.688596",
     "status": "completed"
    },
    "tags": []
   },
   "outputs": [],
   "source": [
    "pred_df_carts = pd.DataFrame(pred_df_carts)\n",
    "pred_df_carts.reset_index(inplace=True)\n",
    "pred_df_carts = pred_df_carts.rename(columns={0:'aids'})\n",
    "\n",
    "pred_df_carts = pred_df_carts.iloc[:100000, :]\n",
    "pred_df_carts = pred_df_carts.explode('aids')\n",
    "pred_df_carts['aids'] = pred_df_carts['aids'].astype('int32')\n",
    "pred_df_carts['session'] = pred_df_carts['session'].astype('int32')\n",
    "pred_df_carts.to_parquet('pred_df_carts.pqt')\n",
    "\n",
    "del pred_df_carts\n",
    "_ = gc.collect()"
   ]
  },
  {
   "cell_type": "code",
   "execution_count": 13,
   "id": "2fc338ea",
   "metadata": {
    "execution": {
     "iopub.execute_input": "2022-12-23T08:12:30.992503Z",
     "iopub.status.busy": "2022-12-23T08:12:30.992101Z",
     "iopub.status.idle": "2022-12-23T08:39:38.010920Z",
     "shell.execute_reply": "2022-12-23T08:39:38.009823Z"
    },
    "papermill": {
     "duration": 1627.0339,
     "end_time": "2022-12-23T08:39:38.018902",
     "exception": false,
     "start_time": "2022-12-23T08:12:30.985002",
     "status": "completed"
    },
    "tags": []
   },
   "outputs": [
    {
     "name": "stdout",
     "output_type": "stream",
     "text": [
      "CPU times: user 26min 30s, sys: 38.1 s, total: 27min 8s\n",
      "Wall time: 27min 7s\n"
     ]
    }
   ],
   "source": [
    "\n",
    "%%time\n",
    "pred_df_buys = val.sort_values([\"session\", \"ts\"]).groupby([\"session\"]).apply(\n",
    "    lambda x: suggest_buys(x)\n",
    ")"
   ]
  },
  {
   "cell_type": "code",
   "execution_count": 14,
   "id": "5ed8a386",
   "metadata": {
    "execution": {
     "iopub.execute_input": "2022-12-23T08:39:38.029620Z",
     "iopub.status.busy": "2022-12-23T08:39:38.028875Z",
     "iopub.status.idle": "2022-12-23T08:39:59.299102Z",
     "shell.execute_reply": "2022-12-23T08:39:59.297708Z"
    },
    "papermill": {
     "duration": 21.278815,
     "end_time": "2022-12-23T08:39:59.302136",
     "exception": false,
     "start_time": "2022-12-23T08:39:38.023321",
     "status": "completed"
    },
    "tags": []
   },
   "outputs": [],
   "source": [
    "pred_df_buys = pd.DataFrame(pred_df_buys)\n",
    "pred_df_buys.reset_index(inplace=True)\n",
    "pred_df_buys = pred_df_buys.rename(columns={0:'aids'})\n",
    "\n",
    "pred_df_buys = pred_df_buys.iloc[:100000, :]\n",
    "pred_df_buys = pred_df_buys.explode('aids')\n",
    "pred_df_buys['aids'] = pred_df_buys['aids'].astype('int32')\n",
    "pred_df_buys['session'] = pred_df_buys['session'].astype('int32')\n",
    "pred_df_buys.to_parquet('pred_df_buys.pqt')\n"
   ]
  }
 ],
 "metadata": {
  "kernelspec": {
   "display_name": "Python 3",
   "language": "python",
   "name": "python3"
  },
  "language_info": {
   "codemirror_mode": {
    "name": "ipython",
    "version": 3
   },
   "file_extension": ".py",
   "mimetype": "text/x-python",
   "name": "python",
   "nbconvert_exporter": "python",
   "pygments_lexer": "ipython3",
   "version": "3.7.12"
  },
  "papermill": {
   "default_parameters": {},
   "duration": 4049.762806,
   "end_time": "2022-12-23T08:40:02.642295",
   "environment_variables": {},
   "exception": null,
   "input_path": "__notebook__.ipynb",
   "output_path": "__notebook__.ipynb",
   "parameters": {},
   "start_time": "2022-12-23T07:32:32.879489",
   "version": "2.3.4"
  }
 },
 "nbformat": 4,
 "nbformat_minor": 5
}
