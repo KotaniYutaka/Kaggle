{
 "cells": [
  {
   "cell_type": "code",
   "execution_count": 1,
   "id": "ba4becd7",
   "metadata": {
    "_cell_guid": "b1076dfc-b9ad-4769-8c92-a6c4dae69d19",
    "_uuid": "8f2839f25d086af736a60e9eeb907d3b93b6e0e5",
    "execution": {
     "iopub.execute_input": "2022-12-24T07:50:02.924746Z",
     "iopub.status.busy": "2022-12-24T07:50:02.924208Z",
     "iopub.status.idle": "2022-12-24T07:50:03.000421Z",
     "shell.execute_reply": "2022-12-24T07:50:02.999363Z"
    },
    "papermill": {
     "duration": 0.090642,
     "end_time": "2022-12-24T07:50:03.007186",
     "exception": false,
     "start_time": "2022-12-24T07:50:02.916544",
     "status": "completed"
    },
    "tags": []
   },
   "outputs": [
    {
     "name": "stdout",
     "output_type": "stream",
     "text": [
      "/kaggle/input/otto-pipeline2-lb-0-576/top_20_clicks_v6_3.pqt\n",
      "/kaggle/input/otto-pipeline2-lb-0-576/top_20_clicks_v6_0.pqt\n",
      "/kaggle/input/otto-pipeline2-lb-0-576/top_20_clicks_v6_2.pqt\n",
      "/kaggle/input/otto-pipeline2-lb-0-576/top_15_buy2buy_v6_0.pqt\n",
      "/kaggle/input/otto-pipeline2-lb-0-576/__results__.html\n",
      "/kaggle/input/otto-pipeline2-lb-0-576/top_20_clicks_v6_1.pqt\n",
      "/kaggle/input/otto-pipeline2-lb-0-576/top_15_carts_orders_v6_0.pqt\n",
      "/kaggle/input/otto-pipeline2-lb-0-576/submission.csv\n",
      "/kaggle/input/otto-pipeline2-lb-0-576/__notebook__.ipynb\n",
      "/kaggle/input/otto-pipeline2-lb-0-576/__output__.json\n",
      "/kaggle/input/otto-pipeline2-lb-0-576/top_15_carts_orders_v6_1.pqt\n",
      "/kaggle/input/otto-pipeline2-lb-0-576/top_15_carts_orders_v6_2.pqt\n",
      "/kaggle/input/otto-pipeline2-lb-0-576/top_15_carts_orders_v6_3.pqt\n",
      "/kaggle/input/otto-pipeline2-lb-0-576/custom.css\n",
      "/kaggle/input/otto-recommender-system/sample_submission.csv\n",
      "/kaggle/input/otto-recommender-system/test.jsonl\n",
      "/kaggle/input/otto-recommender-system/train.jsonl\n",
      "/kaggle/input/otto-chunk-data-inparquet-format/test_parquet/000200000_000300000.parquet\n",
      "/kaggle/input/otto-chunk-data-inparquet-format/test_parquet/000400000_000500000.parquet\n",
      "/kaggle/input/otto-chunk-data-inparquet-format/test_parquet/001300000_001400000.parquet\n",
      "/kaggle/input/otto-chunk-data-inparquet-format/test_parquet/000000000_000100000.parquet\n",
      "/kaggle/input/otto-chunk-data-inparquet-format/test_parquet/000800000_000900000.parquet\n",
      "/kaggle/input/otto-chunk-data-inparquet-format/test_parquet/001500000_001600000.parquet\n",
      "/kaggle/input/otto-chunk-data-inparquet-format/test_parquet/000500000_000600000.parquet\n",
      "/kaggle/input/otto-chunk-data-inparquet-format/test_parquet/000600000_000700000.parquet\n",
      "/kaggle/input/otto-chunk-data-inparquet-format/test_parquet/000900000_001000000.parquet\n",
      "/kaggle/input/otto-chunk-data-inparquet-format/test_parquet/000100000_000200000.parquet\n",
      "/kaggle/input/otto-chunk-data-inparquet-format/test_parquet/001100000_001200000.parquet\n",
      "/kaggle/input/otto-chunk-data-inparquet-format/test_parquet/001600000_001700000.parquet\n",
      "/kaggle/input/otto-chunk-data-inparquet-format/test_parquet/001200000_001300000.parquet\n",
      "/kaggle/input/otto-chunk-data-inparquet-format/test_parquet/001400000_001500000.parquet\n",
      "/kaggle/input/otto-chunk-data-inparquet-format/test_parquet/000700000_000800000.parquet\n",
      "/kaggle/input/otto-chunk-data-inparquet-format/test_parquet/000300000_000400000.parquet\n",
      "/kaggle/input/otto-chunk-data-inparquet-format/test_parquet/001000000_001100000.parquet\n",
      "/kaggle/input/otto-chunk-data-inparquet-format/train_parquet/012800000_012900000.parquet\n",
      "/kaggle/input/otto-chunk-data-inparquet-format/train_parquet/010400000_010500000.parquet\n",
      "/kaggle/input/otto-chunk-data-inparquet-format/train_parquet/000200000_000300000.parquet\n",
      "/kaggle/input/otto-chunk-data-inparquet-format/train_parquet/008200000_008300000.parquet\n",
      "/kaggle/input/otto-chunk-data-inparquet-format/train_parquet/002800000_002900000.parquet\n",
      "/kaggle/input/otto-chunk-data-inparquet-format/train_parquet/006200000_006300000.parquet\n",
      "/kaggle/input/otto-chunk-data-inparquet-format/train_parquet/010300000_010400000.parquet\n",
      "/kaggle/input/otto-chunk-data-inparquet-format/train_parquet/009400000_009500000.parquet\n",
      "/kaggle/input/otto-chunk-data-inparquet-format/train_parquet/002200000_002300000.parquet\n",
      "/kaggle/input/otto-chunk-data-inparquet-format/train_parquet/003200000_003300000.parquet\n",
      "/kaggle/input/otto-chunk-data-inparquet-format/train_parquet/009300000_009400000.parquet\n",
      "/kaggle/input/otto-chunk-data-inparquet-format/train_parquet/008900000_009000000.parquet\n",
      "/kaggle/input/otto-chunk-data-inparquet-format/train_parquet/000400000_000500000.parquet\n",
      "/kaggle/input/otto-chunk-data-inparquet-format/train_parquet/012200000_012300000.parquet\n",
      "/kaggle/input/otto-chunk-data-inparquet-format/train_parquet/001900000_002000000.parquet\n",
      "/kaggle/input/otto-chunk-data-inparquet-format/train_parquet/007400000_007500000.parquet\n",
      "/kaggle/input/otto-chunk-data-inparquet-format/train_parquet/001300000_001400000.parquet\n",
      "/kaggle/input/otto-chunk-data-inparquet-format/train_parquet/007200000_007300000.parquet\n",
      "/kaggle/input/otto-chunk-data-inparquet-format/train_parquet/012100000_012200000.parquet\n",
      "/kaggle/input/otto-chunk-data-inparquet-format/train_parquet/010000000_010100000.parquet\n",
      "/kaggle/input/otto-chunk-data-inparquet-format/train_parquet/010900000_011000000.parquet\n",
      "/kaggle/input/otto-chunk-data-inparquet-format/train_parquet/004200000_004300000.parquet\n",
      "/kaggle/input/otto-chunk-data-inparquet-format/train_parquet/008600000_008700000.parquet\n",
      "/kaggle/input/otto-chunk-data-inparquet-format/train_parquet/005600000_005700000.parquet\n",
      "/kaggle/input/otto-chunk-data-inparquet-format/train_parquet/009600000_009700000.parquet\n",
      "/kaggle/input/otto-chunk-data-inparquet-format/train_parquet/005900000_006000000.parquet\n",
      "/kaggle/input/otto-chunk-data-inparquet-format/train_parquet/004400000_004500000.parquet\n",
      "/kaggle/input/otto-chunk-data-inparquet-format/train_parquet/011900000_012000000.parquet\n",
      "/kaggle/input/otto-chunk-data-inparquet-format/train_parquet/009800000_009900000.parquet\n",
      "/kaggle/input/otto-chunk-data-inparquet-format/train_parquet/011100000_011200000.parquet\n",
      "/kaggle/input/otto-chunk-data-inparquet-format/train_parquet/006300000_006400000.parquet\n",
      "/kaggle/input/otto-chunk-data-inparquet-format/train_parquet/004900000_005000000.parquet\n",
      "/kaggle/input/otto-chunk-data-inparquet-format/train_parquet/011800000_011900000.parquet\n",
      "/kaggle/input/otto-chunk-data-inparquet-format/train_parquet/004700000_004800000.parquet\n",
      "/kaggle/input/otto-chunk-data-inparquet-format/train_parquet/009200000_009300000.parquet\n",
      "/kaggle/input/otto-chunk-data-inparquet-format/train_parquet/012700000_012800000.parquet\n",
      "/kaggle/input/otto-chunk-data-inparquet-format/train_parquet/011000000_011100000.parquet\n",
      "/kaggle/input/otto-chunk-data-inparquet-format/train_parquet/007900000_008000000.parquet\n",
      "/kaggle/input/otto-chunk-data-inparquet-format/train_parquet/012400000_012500000.parquet\n",
      "/kaggle/input/otto-chunk-data-inparquet-format/train_parquet/011300000_011400000.parquet\n",
      "/kaggle/input/otto-chunk-data-inparquet-format/train_parquet/006600000_006700000.parquet\n",
      "/kaggle/input/otto-chunk-data-inparquet-format/train_parquet/004300000_004400000.parquet\n",
      "/kaggle/input/otto-chunk-data-inparquet-format/train_parquet/008700000_008800000.parquet\n",
      "/kaggle/input/otto-chunk-data-inparquet-format/train_parquet/006500000_006600000.parquet\n",
      "/kaggle/input/otto-chunk-data-inparquet-format/train_parquet/006100000_006200000.parquet\n",
      "/kaggle/input/otto-chunk-data-inparquet-format/train_parquet/002900000_003000000.parquet\n",
      "/kaggle/input/otto-chunk-data-inparquet-format/train_parquet/003500000_003600000.parquet\n",
      "/kaggle/input/otto-chunk-data-inparquet-format/train_parquet/003000000_003100000.parquet\n",
      "/kaggle/input/otto-chunk-data-inparquet-format/train_parquet/005500000_005600000.parquet\n",
      "/kaggle/input/otto-chunk-data-inparquet-format/train_parquet/009000000_009100000.parquet\n",
      "/kaggle/input/otto-chunk-data-inparquet-format/train_parquet/000000000_000100000.parquet\n",
      "/kaggle/input/otto-chunk-data-inparquet-format/train_parquet/007700000_007800000.parquet\n",
      "/kaggle/input/otto-chunk-data-inparquet-format/train_parquet/008000000_008100000.parquet\n",
      "/kaggle/input/otto-chunk-data-inparquet-format/train_parquet/005000000_005100000.parquet\n",
      "/kaggle/input/otto-chunk-data-inparquet-format/train_parquet/005100000_005200000.parquet\n",
      "/kaggle/input/otto-chunk-data-inparquet-format/train_parquet/004100000_004200000.parquet\n",
      "/kaggle/input/otto-chunk-data-inparquet-format/train_parquet/006900000_007000000.parquet\n",
      "/kaggle/input/otto-chunk-data-inparquet-format/train_parquet/005200000_005300000.parquet\n",
      "/kaggle/input/otto-chunk-data-inparquet-format/train_parquet/003800000_003900000.parquet\n",
      "/kaggle/input/otto-chunk-data-inparquet-format/train_parquet/012500000_012600000.parquet\n",
      "/kaggle/input/otto-chunk-data-inparquet-format/train_parquet/007000000_007100000.parquet\n",
      "/kaggle/input/otto-chunk-data-inparquet-format/train_parquet/009700000_009800000.parquet\n",
      "/kaggle/input/otto-chunk-data-inparquet-format/train_parquet/006800000_006900000.parquet\n",
      "/kaggle/input/otto-chunk-data-inparquet-format/train_parquet/012600000_012700000.parquet\n",
      "/kaggle/input/otto-chunk-data-inparquet-format/train_parquet/008400000_008500000.parquet\n",
      "/kaggle/input/otto-chunk-data-inparquet-format/train_parquet/010100000_010200000.parquet\n",
      "/kaggle/input/otto-chunk-data-inparquet-format/train_parquet/010700000_010800000.parquet\n",
      "/kaggle/input/otto-chunk-data-inparquet-format/train_parquet/000800000_000900000.parquet\n",
      "/kaggle/input/otto-chunk-data-inparquet-format/train_parquet/001500000_001600000.parquet\n",
      "/kaggle/input/otto-chunk-data-inparquet-format/train_parquet/000500000_000600000.parquet\n",
      "/kaggle/input/otto-chunk-data-inparquet-format/train_parquet/002300000_002400000.parquet\n",
      "/kaggle/input/otto-chunk-data-inparquet-format/train_parquet/011700000_011800000.parquet\n",
      "/kaggle/input/otto-chunk-data-inparquet-format/train_parquet/006400000_006500000.parquet\n",
      "/kaggle/input/otto-chunk-data-inparquet-format/train_parquet/011400000_011500000.parquet\n",
      "/kaggle/input/otto-chunk-data-inparquet-format/train_parquet/011500000_011600000.parquet\n",
      "/kaggle/input/otto-chunk-data-inparquet-format/train_parquet/006700000_006800000.parquet\n",
      "/kaggle/input/otto-chunk-data-inparquet-format/train_parquet/000600000_000700000.parquet\n",
      "/kaggle/input/otto-chunk-data-inparquet-format/train_parquet/007600000_007700000.parquet\n",
      "/kaggle/input/otto-chunk-data-inparquet-format/train_parquet/009500000_009600000.parquet\n",
      "/kaggle/input/otto-chunk-data-inparquet-format/train_parquet/008500000_008600000.parquet\n",
      "/kaggle/input/otto-chunk-data-inparquet-format/train_parquet/011200000_011300000.parquet\n",
      "/kaggle/input/otto-chunk-data-inparquet-format/train_parquet/003300000_003400000.parquet\n",
      "/kaggle/input/otto-chunk-data-inparquet-format/train_parquet/000900000_001000000.parquet\n",
      "/kaggle/input/otto-chunk-data-inparquet-format/train_parquet/007100000_007200000.parquet\n",
      "/kaggle/input/otto-chunk-data-inparquet-format/train_parquet/000100000_000200000.parquet\n",
      "/kaggle/input/otto-chunk-data-inparquet-format/train_parquet/010500000_010600000.parquet\n",
      "/kaggle/input/otto-chunk-data-inparquet-format/train_parquet/008100000_008200000.parquet\n",
      "/kaggle/input/otto-chunk-data-inparquet-format/train_parquet/003700000_003800000.parquet\n",
      "/kaggle/input/otto-chunk-data-inparquet-format/train_parquet/010600000_010700000.parquet\n",
      "/kaggle/input/otto-chunk-data-inparquet-format/train_parquet/002100000_002200000.parquet\n",
      "/kaggle/input/otto-chunk-data-inparquet-format/train_parquet/009900000_010000000.parquet\n",
      "/kaggle/input/otto-chunk-data-inparquet-format/train_parquet/005700000_005800000.parquet\n",
      "/kaggle/input/otto-chunk-data-inparquet-format/train_parquet/001100000_001200000.parquet\n",
      "/kaggle/input/otto-chunk-data-inparquet-format/train_parquet/012000000_012100000.parquet\n",
      "/kaggle/input/otto-chunk-data-inparquet-format/train_parquet/001600000_001700000.parquet\n",
      "/kaggle/input/otto-chunk-data-inparquet-format/train_parquet/002600000_002700000.parquet\n",
      "/kaggle/input/otto-chunk-data-inparquet-format/train_parquet/010800000_010900000.parquet\n",
      "/kaggle/input/otto-chunk-data-inparquet-format/train_parquet/007500000_007600000.parquet\n",
      "/kaggle/input/otto-chunk-data-inparquet-format/train_parquet/010200000_010300000.parquet\n",
      "/kaggle/input/otto-chunk-data-inparquet-format/train_parquet/008300000_008400000.parquet\n",
      "/kaggle/input/otto-chunk-data-inparquet-format/train_parquet/001200000_001300000.parquet\n",
      "/kaggle/input/otto-chunk-data-inparquet-format/train_parquet/001400000_001500000.parquet\n",
      "/kaggle/input/otto-chunk-data-inparquet-format/train_parquet/000700000_000800000.parquet\n",
      "/kaggle/input/otto-chunk-data-inparquet-format/train_parquet/002000000_002100000.parquet\n",
      "/kaggle/input/otto-chunk-data-inparquet-format/train_parquet/001700000_001800000.parquet\n",
      "/kaggle/input/otto-chunk-data-inparquet-format/train_parquet/002400000_002500000.parquet\n",
      "/kaggle/input/otto-chunk-data-inparquet-format/train_parquet/007800000_007900000.parquet\n",
      "/kaggle/input/otto-chunk-data-inparquet-format/train_parquet/011600000_011700000.parquet\n",
      "/kaggle/input/otto-chunk-data-inparquet-format/train_parquet/003600000_003700000.parquet\n",
      "/kaggle/input/otto-chunk-data-inparquet-format/train_parquet/005400000_005500000.parquet\n",
      "/kaggle/input/otto-chunk-data-inparquet-format/train_parquet/002700000_002800000.parquet\n",
      "/kaggle/input/otto-chunk-data-inparquet-format/train_parquet/005300000_005400000.parquet\n",
      "/kaggle/input/otto-chunk-data-inparquet-format/train_parquet/001800000_001900000.parquet\n",
      "/kaggle/input/otto-chunk-data-inparquet-format/train_parquet/000300000_000400000.parquet\n",
      "/kaggle/input/otto-chunk-data-inparquet-format/train_parquet/004000000_004100000.parquet\n",
      "/kaggle/input/otto-chunk-data-inparquet-format/train_parquet/003900000_004000000.parquet\n",
      "/kaggle/input/otto-chunk-data-inparquet-format/train_parquet/009100000_009200000.parquet\n",
      "/kaggle/input/otto-chunk-data-inparquet-format/train_parquet/003100000_003200000.parquet\n",
      "/kaggle/input/otto-chunk-data-inparquet-format/train_parquet/005800000_005900000.parquet\n",
      "/kaggle/input/otto-chunk-data-inparquet-format/train_parquet/008800000_008900000.parquet\n",
      "/kaggle/input/otto-chunk-data-inparquet-format/train_parquet/003400000_003500000.parquet\n",
      "/kaggle/input/otto-chunk-data-inparquet-format/train_parquet/004500000_004600000.parquet\n",
      "/kaggle/input/otto-chunk-data-inparquet-format/train_parquet/004800000_004900000.parquet\n",
      "/kaggle/input/otto-chunk-data-inparquet-format/train_parquet/002500000_002600000.parquet\n",
      "/kaggle/input/otto-chunk-data-inparquet-format/train_parquet/006000000_006100000.parquet\n",
      "/kaggle/input/otto-chunk-data-inparquet-format/train_parquet/012300000_012400000.parquet\n",
      "/kaggle/input/otto-chunk-data-inparquet-format/train_parquet/001000000_001100000.parquet\n",
      "/kaggle/input/otto-chunk-data-inparquet-format/train_parquet/007300000_007400000.parquet\n",
      "/kaggle/input/otto-chunk-data-inparquet-format/train_parquet/004600000_004700000.parquet\n"
     ]
    }
   ],
   "source": [
    "# This Python 3 environment comes with many helpful analytics libraries installed\n",
    "# It is defined by the kaggle/python Docker image: https://github.com/kaggle/docker-python\n",
    "# For example, here's several helpful packages to load\n",
    "\n",
    "import numpy as np # linear algebra\n",
    "import pandas as pd # data processing, CSV file I/O (e.g. pd.read_csv)\n",
    "\n",
    "# Input data files are available in the read-only \"../input/\" directory\n",
    "# For example, running this (by clicking run or pressing Shift+Enter) will list all files under the input directory\n",
    "\n",
    "import os\n",
    "for dirname, _, filenames in os.walk('/kaggle/input'):\n",
    "    for filename in filenames:\n",
    "        print(os.path.join(dirname, filename))\n",
    "\n",
    "# You can write up to 20GB to the current directory (/kaggle/working/) that gets preserved as output when you create a version using \"Save & Run All\" \n",
    "# You can also write temporary files to /kaggle/temp/, but they won't be saved outside of the current session"
   ]
  },
  {
   "cell_type": "code",
   "execution_count": 2,
   "id": "22c8b451",
   "metadata": {
    "execution": {
     "iopub.execute_input": "2022-12-24T07:50:03.025337Z",
     "iopub.status.busy": "2022-12-24T07:50:03.024509Z",
     "iopub.status.idle": "2022-12-24T07:50:03.159256Z",
     "shell.execute_reply": "2022-12-24T07:50:03.157966Z"
    },
    "papermill": {
     "duration": 0.147432,
     "end_time": "2022-12-24T07:50:03.162506",
     "exception": false,
     "start_time": "2022-12-24T07:50:03.015074",
     "status": "completed"
    },
    "tags": []
   },
   "outputs": [],
   "source": [
    "import pandas as pd, numpy as np\n",
    "from tqdm.notebook import tqdm\n",
    "import os, sys, pickle, glob, gc\n",
    "from collections import Counter\n",
    "import  itertools"
   ]
  },
  {
   "cell_type": "code",
   "execution_count": 3,
   "id": "6300345e",
   "metadata": {
    "execution": {
     "iopub.execute_input": "2022-12-24T07:50:03.174300Z",
     "iopub.status.busy": "2022-12-24T07:50:03.173806Z",
     "iopub.status.idle": "2022-12-24T07:50:06.484853Z",
     "shell.execute_reply": "2022-12-24T07:50:06.482852Z"
    },
    "papermill": {
     "duration": 3.320955,
     "end_time": "2022-12-24T07:50:06.488452",
     "exception": false,
     "start_time": "2022-12-24T07:50:03.167497",
     "status": "completed"
    },
    "tags": []
   },
   "outputs": [
    {
     "name": "stdout",
     "output_type": "stream",
     "text": [
      "Test data has shape (6928123, 4)\n"
     ]
    },
    {
     "data": {
      "text/html": [
       "<div>\n",
       "<style scoped>\n",
       "    .dataframe tbody tr th:only-of-type {\n",
       "        vertical-align: middle;\n",
       "    }\n",
       "\n",
       "    .dataframe tbody tr th {\n",
       "        vertical-align: top;\n",
       "    }\n",
       "\n",
       "    .dataframe thead th {\n",
       "        text-align: right;\n",
       "    }\n",
       "</style>\n",
       "<table border=\"1\" class=\"dataframe\">\n",
       "  <thead>\n",
       "    <tr style=\"text-align: right;\">\n",
       "      <th></th>\n",
       "      <th>session</th>\n",
       "      <th>aid</th>\n",
       "      <th>ts</th>\n",
       "      <th>type</th>\n",
       "    </tr>\n",
       "  </thead>\n",
       "  <tbody>\n",
       "    <tr>\n",
       "      <th>0</th>\n",
       "      <td>13099779</td>\n",
       "      <td>245308</td>\n",
       "      <td>1661795832</td>\n",
       "      <td>0</td>\n",
       "    </tr>\n",
       "    <tr>\n",
       "      <th>1</th>\n",
       "      <td>13099779</td>\n",
       "      <td>245308</td>\n",
       "      <td>1661795862</td>\n",
       "      <td>1</td>\n",
       "    </tr>\n",
       "    <tr>\n",
       "      <th>2</th>\n",
       "      <td>13099779</td>\n",
       "      <td>972319</td>\n",
       "      <td>1661795888</td>\n",
       "      <td>0</td>\n",
       "    </tr>\n",
       "    <tr>\n",
       "      <th>3</th>\n",
       "      <td>13099779</td>\n",
       "      <td>972319</td>\n",
       "      <td>1661795898</td>\n",
       "      <td>1</td>\n",
       "    </tr>\n",
       "    <tr>\n",
       "      <th>4</th>\n",
       "      <td>13099779</td>\n",
       "      <td>245308</td>\n",
       "      <td>1661795907</td>\n",
       "      <td>0</td>\n",
       "    </tr>\n",
       "  </tbody>\n",
       "</table>\n",
       "</div>"
      ],
      "text/plain": [
       "    session     aid          ts  type\n",
       "0  13099779  245308  1661795832     0\n",
       "1  13099779  245308  1661795862     1\n",
       "2  13099779  972319  1661795888     0\n",
       "3  13099779  972319  1661795898     1\n",
       "4  13099779  245308  1661795907     0"
      ]
     },
     "execution_count": 3,
     "metadata": {},
     "output_type": "execute_result"
    }
   ],
   "source": [
    "type_labels = {'clicks':0, 'carts':1, 'orders':2}\n",
    "def load_test():    \n",
    "    dfs = []\n",
    "    for e, chunk_file in enumerate(glob.glob('../input/otto-chunk-data-inparquet-format/test_parquet/*')):\n",
    "        chunk = pd.read_parquet(chunk_file)\n",
    "        chunk.ts = (chunk.ts/1000).astype('int32')\n",
    "        chunk['type'] = chunk['type'].map(type_labels).astype('int8')\n",
    "        dfs.append(chunk)\n",
    "    return pd.concat(dfs).reset_index(drop=True) #.astype({\"ts\": \"datetime64[ms]\"})\n",
    "\n",
    "test_df = load_test()\n",
    "print('Test data has shape',test_df.shape)\n",
    "test_df.head()"
   ]
  },
  {
   "cell_type": "code",
   "execution_count": 4,
   "id": "4f5dd88c",
   "metadata": {
    "execution": {
     "iopub.execute_input": "2022-12-24T07:50:06.500541Z",
     "iopub.status.busy": "2022-12-24T07:50:06.500037Z",
     "iopub.status.idle": "2022-12-24T07:52:25.459501Z",
     "shell.execute_reply": "2022-12-24T07:52:25.458095Z"
    },
    "papermill": {
     "duration": 138.97421,
     "end_time": "2022-12-24T07:52:25.467825",
     "exception": false,
     "start_time": "2022-12-24T07:50:06.493615",
     "status": "completed"
    },
    "tags": []
   },
   "outputs": [
    {
     "name": "stdout",
     "output_type": "stream",
     "text": [
      "Here are size of our 3 co-visitation matrices:\n",
      "1837166 1168768 1837166\n",
      "CPU times: user 2min 5s, sys: 12.2 s, total: 2min 17s\n",
      "Wall time: 2min 18s\n"
     ]
    }
   ],
   "source": [
    "%%time\n",
    "VER=6\n",
    "DISK_PIECES=4\n",
    "def pqt_to_dict(df):\n",
    "    return df.groupby('aid_x').aid_y.apply(list).to_dict()\n",
    "\n",
    "top_20_clicks = pqt_to_dict(pd.read_parquet(f'/kaggle/input/otto-pipeline2-lb-0-576/top_20_clicks_v6_0.pqt'))\n",
    "for k in range(1, DISK_PIECES):\n",
    "    top_20_clicks.update( pqt_to_dict( pd.read_parquet(f'/kaggle/input/otto-pipeline2-lb-0-576/top_20_clicks_v6_{k}.pqt')))\n",
    "top_20_buys = pqt_to_dict( pd.read_parquet(f'/kaggle/input/otto-pipeline2-lb-0-576/top_15_carts_orders_v6_0.pqt'))\n",
    "for k in range(1, DISK_PIECES):\n",
    "    top_20_buys.update( pqt_to_dict( pd.read_parquet(f'/kaggle/input/otto-pipeline2-lb-0-576/top_15_carts_orders_v6_{k}.pqt')))\n",
    "top_20_buy2buy = pqt_to_dict(pd.read_parquet(f'/kaggle/input/otto-pipeline2-lb-0-576/top_15_buy2buy_v6_0.pqt'))\n",
    "\n",
    "top_clicks = test_df.loc[test_df['type']== 0, 'aid'].value_counts().index.values[:100]\n",
    "top_carts = test_df.loc[test_df['type']== 1, 'aid'].value_counts().index.values[:100]\n",
    "top_orders = test_df.loc[test_df['type']== 2, 'aid'].value_counts().index.values[:100]\n",
    "\n",
    "print('Here are size of our 3 co-visitation matrices:')\n",
    "print( len(top_20_clicks), len(top_20_buy2buy), len(top_20_buys))"
   ]
  },
  {
   "cell_type": "code",
   "execution_count": 5,
   "id": "2c68413a",
   "metadata": {
    "execution": {
     "iopub.execute_input": "2022-12-24T07:52:25.479551Z",
     "iopub.status.busy": "2022-12-24T07:52:25.479042Z",
     "iopub.status.idle": "2022-12-24T07:52:25.618104Z",
     "shell.execute_reply": "2022-12-24T07:52:25.616496Z"
    },
    "papermill": {
     "duration": 0.148479,
     "end_time": "2022-12-24T07:52:25.621060",
     "exception": false,
     "start_time": "2022-12-24T07:52:25.472581",
     "status": "completed"
    },
    "tags": []
   },
   "outputs": [],
   "source": [
    "type_weight_multipliers = {0: 1, 1: 5, 2: 4}\n",
    "\n",
    "def suggest_clicks(df):\n",
    "    # USER HISTORY AIDS AND TYPES\n",
    "    aids=df.aid.tolist()\n",
    "    types = df.type.tolist()\n",
    "    unique_aids = list(dict.fromkeys(aids[::-1] ))\n",
    "    # RERANK CANDIDATES USING WEIGHTS\n",
    "    if len(unique_aids)>=100:\n",
    "        weights=np.logspace(0.1,1,len(aids),base=2, endpoint=True)-1\n",
    "        aids_temp = Counter() \n",
    "        # RERANK BASED ON REPEAT ITEMS AND TYPE OF ITEMS\n",
    "        for aid,w,t in zip(aids,weights,types): \n",
    "            aids_temp[aid] += w * type_weight_multipliers[t]\n",
    "        sorted_aids = [k for k,v in aids_temp.most_common(100)]\n",
    "        return sorted_aids\n",
    "    # USE \"CLICKS\" CO-VISITATION MATRIX\n",
    "    aids2 = list(itertools.chain(*[top_20_clicks[aid] for aid in unique_aids if aid in top_20_clicks]))\n",
    "    aids3 = list(itertools.chain(*[top_20_buys[aid] for aid in unique_aids if aid in top_20_buys]))\n",
    "    # RERANK CANDIDATES\n",
    "    top_aids2 = [aid2 for aid2, cnt in Counter(aids2+aids3).most_common(100) if aid2 not in unique_aids]    \n",
    "    result = unique_aids + top_aids2[:100 - len(unique_aids)]\n",
    "    # USE TOP20 TEST CLICKS\n",
    "    tops = set(list(top_clicks)) - set(result)\n",
    "    \n",
    "    return result + list(tops)[:100-len(result)]\n",
    "\n",
    "    \n",
    "\n",
    "\n",
    "def suggest_carts(df):\n",
    "    # User history aids and types\n",
    "    aids = df.aid.tolist()\n",
    "    types = df.type.tolist()\n",
    "    \n",
    "    # UNIQUE AIDS AND UNIQUE BUYS\n",
    "    unique_aids = list(dict.fromkeys(aids[::-1] ))\n",
    "    df = df.loc[(df['type'] == 0)|(df['type'] == 1)]\n",
    "    unique_buys = list(dict.fromkeys(df.aid.tolist()[::-1]))\n",
    "    \n",
    "    # Rerank candidates using weights\n",
    "    if len(unique_aids) >= 100:\n",
    "        weights=np.logspace(0.5,1,len(aids),base=2, endpoint=True)-1\n",
    "        aids_temp = Counter() \n",
    "        \n",
    "        # Rerank based on repeat items and types of items\n",
    "        for aid,w,t in zip(aids,weights,types): \n",
    "            aids_temp[aid] += w * type_weight_multipliers[t]\n",
    "        \n",
    "        # Rerank candidates using\"top_20_carts\" co-visitation matrix\n",
    "        aids2 = list(itertools.chain(*[top_20_buys[aid] for aid in unique_buys if aid in top_20_buys]))\n",
    "        for aid in aids2: aids_temp[aid] += 0.1\n",
    "        sorted_aids = [k for k,v in aids_temp.most_common(100)]\n",
    "        return sorted_aids\n",
    "    \n",
    "    # Use \"cart order\" and \"clicks\" co-visitation matrices\n",
    "    aids1 = list(itertools.chain(*[top_20_clicks[aid] for aid in unique_aids if aid in top_20_clicks]))\n",
    "    aids2 = list(itertools.chain(*[top_20_buys[aid] for aid in unique_aids if aid in top_20_buys]))\n",
    "    aids3 = list(itertools.chain(*[top_20_buy2buy[aid] for aid in unique_aids if aid in top_20_buy2buy]))\n",
    "    \n",
    "    # RERANK CANDIDATES\n",
    "    top_aids2 = [aid2 for aid2, cnt in Counter(aids1+aids2+aids3).most_common(100) if aid2 not in unique_aids] \n",
    "    result = unique_aids + top_aids2[:100 - len(unique_aids)]\n",
    "    \n",
    "    # USE TOP20 TEST ORDERS\n",
    "    tops = set(list(top_carts)) - set(result)\n",
    "\n",
    "    return result + list(tops)[:100-len(result)]\n",
    "\n",
    "\n",
    "def suggest_buys(df):\n",
    "    # USER HISTORY AIDS AND TYPES\n",
    "    aids=df.aid.tolist()\n",
    "    types = df.type.tolist()\n",
    "    # UNIQUE AIDS AND UNIQUE BUYS\n",
    "    unique_aids = list(dict.fromkeys(aids[::-1] ))\n",
    "    df = df.loc[(df['type']==1)|(df['type']==2)]\n",
    "    unique_buys = list(dict.fromkeys( df.aid.tolist()[::-1] ))\n",
    "    # RERANK CANDIDATES USING WEIGHTS\n",
    "    if len(unique_aids)>=100:\n",
    "        weights=np.logspace(0.5,1,len(aids),base=2, endpoint=True)-1\n",
    "        aids_temp = Counter() \n",
    "        # RERANK BASED ON REPEAT ITEMS AND TYPE OF ITEMS\n",
    "        for aid,w,t in zip(aids,weights,types): \n",
    "            aids_temp[aid] += w * type_weight_multipliers[t]\n",
    "        # RERANK CANDIDATES USING \"BUY2BUY\" CO-VISITATION MATRIX\n",
    "        aids3 = list(itertools.chain(*[top_20_buy2buy[aid] for aid in unique_buys if aid in top_20_buy2buy]))\n",
    "        for aid in aids3: aids_temp[aid] += 0.1\n",
    "        sorted_aids = [k for k,v in aids_temp.most_common(100)]\n",
    "        return sorted_aids\n",
    "    # USE \"CART ORDER\" CO-VISITATION MATRIX\n",
    "    aids2 = list(itertools.chain(*[top_20_buys[aid] for aid in unique_aids if aid in top_20_buys]))\n",
    "    # USE \"BUY2BUY\" CO-VISITATION MATRIX\n",
    "    aids3 = list(itertools.chain(*[top_20_buy2buy[aid] for aid in unique_buys if aid in top_20_buy2buy]))\n",
    "    # RERANK CANDIDATES\n",
    "    top_aids2 = [aid2 for aid2, cnt in Counter(aids2+aids3).most_common(100) if aid2 not in unique_aids] \n",
    "    result = unique_aids + top_aids2[:100 - len(unique_aids)]\n",
    "    # USE TOP20 TEST ORDERS\n",
    "    tops = set(list(top_orders)) - set(result)\n",
    "\n",
    "    return result + list(tops)[:100-len(result)]"
   ]
  },
  {
   "cell_type": "code",
   "execution_count": 6,
   "id": "dd5f7fa4",
   "metadata": {
    "execution": {
     "iopub.execute_input": "2022-12-24T07:52:25.633219Z",
     "iopub.status.busy": "2022-12-24T07:52:25.632740Z",
     "iopub.status.idle": "2022-12-24T08:00:10.096343Z",
     "shell.execute_reply": "2022-12-24T08:00:10.094813Z"
    },
    "papermill": {
     "duration": 464.478253,
     "end_time": "2022-12-24T08:00:10.104618",
     "exception": false,
     "start_time": "2022-12-24T07:52:25.626365",
     "status": "completed"
    },
    "tags": []
   },
   "outputs": [
    {
     "name": "stdout",
     "output_type": "stream",
     "text": [
      "CPU times: user 7min 35s, sys: 9.26 s, total: 7min 44s\n",
      "Wall time: 7min 44s\n"
     ]
    }
   ],
   "source": [
    "%%time\n",
    "\n",
    "pred_df_clicks = test_df.sort_values([\"session\", \"ts\"]).groupby([\"session\"]).apply(\n",
    "    lambda x: suggest_clicks(x)\n",
    ")\n"
   ]
  },
  {
   "cell_type": "code",
   "execution_count": 7,
   "id": "c270dfec",
   "metadata": {
    "execution": {
     "iopub.execute_input": "2022-12-24T08:00:10.117013Z",
     "iopub.status.busy": "2022-12-24T08:00:10.116536Z",
     "iopub.status.idle": "2022-12-24T08:00:10.133018Z",
     "shell.execute_reply": "2022-12-24T08:00:10.131665Z"
    },
    "papermill": {
     "duration": 0.026367,
     "end_time": "2022-12-24T08:00:10.136154",
     "exception": false,
     "start_time": "2022-12-24T08:00:10.109787",
     "status": "completed"
    },
    "tags": []
   },
   "outputs": [
    {
     "data": {
      "text/plain": [
       "session\n",
       "12899779    [59625, 1253524, 737445, 438191, 731692, 17907...\n",
       "12899780    [1142000, 736515, 973453, 582732, 889686, 1502...\n",
       "12899781    [918667, 199008, 194067, 57315, 141736, 146057...\n",
       "12899782    [1007613, 595994, 1033148, 834354, 479970, 169...\n",
       "12899783    [1817895, 607638, 1754419, 1216820, 1729553, 3...\n",
       "                                  ...                        \n",
       "14571577    [1141710, 1276792, 1004292, 1666114, 367734, 8...\n",
       "14571578    [519105, 977826, 1811714, 822641, 815460, 1536...\n",
       "14571579    [739876, 1209992, 1750859, 1550479, 51363, 785...\n",
       "14571580    [202353, 1314576, 433425, 871658, 1231403, 925...\n",
       "14571581    [1100210, 1684953, 462056, 1158237, 1401429, 6...\n",
       "Length: 1671803, dtype: object"
      ]
     },
     "execution_count": 7,
     "metadata": {},
     "output_type": "execute_result"
    }
   ],
   "source": [
    "pred_df_clicks"
   ]
  },
  {
   "cell_type": "code",
   "execution_count": 8,
   "id": "9137e090",
   "metadata": {
    "execution": {
     "iopub.execute_input": "2022-12-24T08:00:10.149876Z",
     "iopub.status.busy": "2022-12-24T08:00:10.149382Z",
     "iopub.status.idle": "2022-12-24T08:01:36.053975Z",
     "shell.execute_reply": "2022-12-24T08:01:36.052311Z"
    },
    "papermill": {
     "duration": 85.916153,
     "end_time": "2022-12-24T08:01:36.057964",
     "exception": false,
     "start_time": "2022-12-24T08:00:10.141811",
     "status": "completed"
    },
    "tags": []
   },
   "outputs": [],
   "source": [
    "pred_df_clicks = pd.DataFrame(pred_df_clicks)\n",
    "pred_df_clicks.reset_index(inplace=True)\n",
    "pred_df_clicks = pred_df_clicks.rename(columns={0:'aids'})\n",
    "pred_df_clicks = pred_df_clicks.explode('aids')\n",
    "pred_df_clicks['aids'] = pred_df_clicks['aids'].astype('int32')\n",
    "pred_df_clicks['session'] = pred_df_clicks['session'].astype('int32')\n",
    "pred_df_clicks.to_parquet('pred_df_clicks.pqt')\n",
    "\n",
    "import gc\n",
    "del pred_df_clicks\n",
    "_ = gc.collect()"
   ]
  },
  {
   "cell_type": "code",
   "execution_count": 9,
   "id": "1f6e29b7",
   "metadata": {
    "execution": {
     "iopub.execute_input": "2022-12-24T08:01:36.072165Z",
     "iopub.status.busy": "2022-12-24T08:01:36.071687Z",
     "iopub.status.idle": "2022-12-24T08:36:06.146958Z",
     "shell.execute_reply": "2022-12-24T08:36:06.144326Z"
    },
    "papermill": {
     "duration": 2070.095664,
     "end_time": "2022-12-24T08:36:06.160056",
     "exception": false,
     "start_time": "2022-12-24T08:01:36.064392",
     "status": "completed"
    },
    "tags": []
   },
   "outputs": [
    {
     "name": "stdout",
     "output_type": "stream",
     "text": [
      "CPU times: user 34min 13s, sys: 24.2 s, total: 34min 37s\n",
      "Wall time: 34min 30s\n"
     ]
    }
   ],
   "source": [
    "%%time\n",
    "pred_df_carts = test_df.sort_values([\"session\", \"ts\"]).groupby([\"session\"]).apply(\n",
    "    lambda x: suggest_carts(x)\n",
    ")"
   ]
  },
  {
   "cell_type": "code",
   "execution_count": 10,
   "id": "42df1bc2",
   "metadata": {
    "execution": {
     "iopub.execute_input": "2022-12-24T08:36:06.174956Z",
     "iopub.status.busy": "2022-12-24T08:36:06.174323Z",
     "iopub.status.idle": "2022-12-24T08:37:37.716652Z",
     "shell.execute_reply": "2022-12-24T08:37:37.715411Z"
    },
    "papermill": {
     "duration": 91.554709,
     "end_time": "2022-12-24T08:37:37.720413",
     "exception": false,
     "start_time": "2022-12-24T08:36:06.165704",
     "status": "completed"
    },
    "tags": []
   },
   "outputs": [],
   "source": [
    "pred_df_carts = pd.DataFrame(pred_df_carts)\n",
    "pred_df_carts.reset_index(inplace=True)\n",
    "pred_df_carts = pred_df_carts.rename(columns={0:'aids'})\n",
    "pred_df_carts = pred_df_carts.explode('aids')\n",
    "pred_df_carts['aids'] = pred_df_carts['aids'].astype('int32')\n",
    "pred_df_carts['session'] = pred_df_carts['session'].astype('int32')\n",
    "pred_df_carts.to_parquet('pred_df_carts.pqt')\n",
    "\n",
    "del pred_df_carts\n",
    "_ = gc.collect()"
   ]
  },
  {
   "cell_type": "code",
   "execution_count": 11,
   "id": "96a9236f",
   "metadata": {
    "execution": {
     "iopub.execute_input": "2022-12-24T08:37:37.733663Z",
     "iopub.status.busy": "2022-12-24T08:37:37.733120Z",
     "iopub.status.idle": "2022-12-24T09:09:52.619277Z",
     "shell.execute_reply": "2022-12-24T09:09:52.613776Z"
    },
    "papermill": {
     "duration": 1934.900743,
     "end_time": "2022-12-24T09:09:52.626949",
     "exception": false,
     "start_time": "2022-12-24T08:37:37.726206",
     "status": "completed"
    },
    "tags": []
   },
   "outputs": [
    {
     "name": "stdout",
     "output_type": "stream",
     "text": [
      "CPU times: user 31min 51s, sys: 29.5 s, total: 32min 21s\n",
      "Wall time: 32min 14s\n"
     ]
    }
   ],
   "source": [
    "%%time\n",
    "pred_df_buys = test_df.sort_values([\"session\", \"ts\"]).groupby([\"session\"]).apply(\n",
    "    lambda x: suggest_buys(x)\n",
    ")"
   ]
  },
  {
   "cell_type": "code",
   "execution_count": 12,
   "id": "8a7f5e10",
   "metadata": {
    "execution": {
     "iopub.execute_input": "2022-12-24T09:09:52.641777Z",
     "iopub.status.busy": "2022-12-24T09:09:52.641315Z",
     "iopub.status.idle": "2022-12-24T09:11:07.126592Z",
     "shell.execute_reply": "2022-12-24T09:11:07.125178Z"
    },
    "papermill": {
     "duration": 74.496893,
     "end_time": "2022-12-24T09:11:07.130470",
     "exception": false,
     "start_time": "2022-12-24T09:09:52.633577",
     "status": "completed"
    },
    "tags": []
   },
   "outputs": [],
   "source": [
    "pred_df_buys = pd.DataFrame(pred_df_buys)\n",
    "pred_df_buys.reset_index(inplace=True)\n",
    "pred_df_buys = pred_df_buys.rename(columns={0:'aids'})\n",
    "pred_df_buys = pred_df_buys.explode('aids')\n",
    "pred_df_buys['aids'] = pred_df_buys['aids'].astype('int32')\n",
    "pred_df_buys['session'] = pred_df_buys['session'].astype('int32')\n",
    "pred_df_buys.to_parquet('pred_df_buys.pqt')"
   ]
  },
  {
   "cell_type": "code",
   "execution_count": null,
   "id": "11fc97c4",
   "metadata": {
    "papermill": {
     "duration": 0.005421,
     "end_time": "2022-12-24T09:11:07.142283",
     "exception": false,
     "start_time": "2022-12-24T09:11:07.136862",
     "status": "completed"
    },
    "tags": []
   },
   "outputs": [],
   "source": []
  }
 ],
 "metadata": {
  "kernelspec": {
   "display_name": "Python 3",
   "language": "python",
   "name": "python3"
  },
  "language_info": {
   "codemirror_mode": {
    "name": "ipython",
    "version": 3
   },
   "file_extension": ".py",
   "mimetype": "text/x-python",
   "name": "python",
   "nbconvert_exporter": "python",
   "pygments_lexer": "ipython3",
   "version": "3.7.12"
  },
  "papermill": {
   "default_parameters": {},
   "duration": 4878.827169,
   "end_time": "2022-12-24T09:11:11.597417",
   "environment_variables": {},
   "exception": null,
   "input_path": "__notebook__.ipynb",
   "output_path": "__notebook__.ipynb",
   "parameters": {},
   "start_time": "2022-12-24T07:49:52.770248",
   "version": "2.3.4"
  }
 },
 "nbformat": 4,
 "nbformat_minor": 5
}
